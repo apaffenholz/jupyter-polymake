{
 "cells": [
  {
   "cell_type": "code",
   "execution_count": 1,
   "metadata": {
    "collapsed": false
   },
   "outputs": [
    {
     "name": "stdout",
     "output_type": "stream",
     "text": [
      "\r\n",
      "\r\n"
     ]
    }
   ],
   "source": [
    "$p=new Polytope(POINTS=>[[1,0,0],[1,1,0],[1,0,1]]);"
   ]
  },
  {
   "cell_type": "code",
   "execution_count": 2,
   "metadata": {
    "collapsed": false
   },
   "outputs": [
    {
     "name": "stdout",
     "output_type": "stream",
     "text": [
      "\r\n",
      "polymake: used package cdd\r\n",
      "  cddlib\r\n",
      "  Implementation of the double description method of Motzkin et al.\r\n",
      "  Copyright by Komei Fukuda.\r\n",
      "  http://www.ifor.math.ethz.ch/~fukuda/cdd_home/cdd.html\r\n",
      "\r\n",
      "polymake: used package ppl\r\n",
      "  The Parma Polyhedra Library (PPL): A C++ library for convex polyhedra\r\n",
      "  and other numerical abstractions.\r\n",
      "  http://www.cs.unipr.it/ppl/\r\n",
      "\r\n",
      "1 0 0\r\n",
      "1 1 0\r\n",
      "1 0 1\r\n",
      "\r\n"
     ]
    }
   ],
   "source": [
    "print $p->VERTICES;"
   ]
  },
  {
   "cell_type": "code",
   "execution_count": 3,
   "metadata": {
    "collapsed": false
   },
   "outputs": [
    {
     "name": "stdout",
     "output_type": "stream",
     "text": [
      "\r\n",
      "1/2\r\n"
     ]
    }
   ],
   "source": [
    "print $p->VOLUME;"
   ]
  },
  {
   "cell_type": "code",
   "execution_count": 4,
   "metadata": {
    "collapsed": false
   },
   "outputs": [
    {
     "name": "stdout",
     "output_type": "stream",
     "text": [
      "\r\n",
      "3 3\r\n"
     ]
    }
   ],
   "source": [
    "print $p->F_VECTOR;"
   ]
  },
  {
   "cell_type": "code",
   "execution_count": 5,
   "metadata": {
    "collapsed": false
   },
   "outputs": [
    {
     "name": "stdout",
     "output_type": "stream",
     "text": [
      "\r\n",
      "\r\n",
      "\r\n",
      "Application group currently uses following third-party software packages:\r\n",
      "permlib, singular, sketch, threejs, tikz\r\n",
      "For more details:  show_credits;\r\n"
     ]
    }
   ],
   "source": [
    "application \"group\";"
   ]
  },
  {
   "cell_type": "code",
   "execution_count": 6,
   "metadata": {
    "collapsed": false
   },
   "outputs": [
    {
     "name": "stdout",
     "output_type": "stream",
     "text": [
      "\r\n",
      "\r\n"
     ]
    }
   ],
   "source": [
    "$g=new Group(GENERATORS=>[[1,0,2],[0,2,1]]);"
   ]
  },
  {
   "cell_type": "code",
   "execution_count": 7,
   "metadata": {
    "collapsed": false
   },
   "outputs": [
    {
     "name": "stdout",
     "output_type": "stream",
     "text": [
      "\r\n",
      "polymake: used package permlib\r\n",
      "  A callable C++ library for permutation computations. \r\n",
      "  Written by Thomas Rehn.\r\n",
      "  http://www.math.uni-rostock.de/~rehn/software/permlib.html \r\n",
      "\r\n",
      "\r\n"
     ]
    }
   ],
   "source": [
    "$g->STRONG_GENERATORS;"
   ]
  },
  {
   "cell_type": "code",
   "execution_count": 8,
   "metadata": {
    "collapsed": false
   },
   "outputs": [
    {
     "name": "stdout",
     "output_type": "stream",
     "text": [
      "\r\n",
      "1 0 2\r\n",
      "0 2 1\r\n",
      "\r\n"
     ]
    }
   ],
   "source": [
    "print $g->STRONG_GENERATORS;"
   ]
  },
  {
   "cell_type": "code",
   "execution_count": null,
   "metadata": {
    "collapsed": true
   },
   "outputs": [],
   "source": []
  }
 ],
 "metadata": {
  "kernelspec": {
   "display_name": "polymake",
   "language": "polymake",
   "name": "polymake"
  },
  "language_info": {
   "codemirror_mode": "polymake",
   "file_extension": ".polymake",
   "mimetype": "text/x-polymake",
   "name": "polymake"
  }
 },
 "nbformat": 4,
 "nbformat_minor": 0
}
